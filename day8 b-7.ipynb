{
  "nbformat": 4,
  "nbformat_minor": 0,
  "metadata": {
    "colab": {
      "name": "day8 b-7.ipynb",
      "provenance": []
    },
    "kernelspec": {
      "name": "python3",
      "display_name": "Python 3"
    }
  },
  "cells": [
    {
      "cell_type": "code",
      "metadata": {
        "id": "6xFFf-jUxgsw",
        "colab_type": "code",
        "colab": {}
      },
      "source": [
        "#assignment 1\n",
        "#using decortors\n",
        "\n",
        "def inputDecoFun(argFun):\n",
        "    \n",
        "    def newFun():\n",
        "        num = int(input(\"Enter any Number - \"))\n",
        "        argFun(num)\n",
        "    return newFun "
      ],
      "execution_count": 5,
      "outputs": []
    },
    {
      "cell_type": "code",
      "metadata": {
        "id": "yO8ugjAAx78w",
        "colab_type": "code",
        "colab": {}
      },
      "source": [
        "@inputDecoFun\n",
        "def fibonacciSe(n):\n",
        "    oldnumber = 0\n",
        "    previousNumber = 1\n",
        "    print('1')\n",
        "    for i in range(0,n):\n",
        "        newNumber = previousNumber +oldnumber\n",
        "        oldnumber = previousNumber\n",
        "        previousNumber = newNumber\n",
        "        print(newNumber)"
      ],
      "execution_count": 6,
      "outputs": []
    },
    {
      "cell_type": "code",
      "metadata": {
        "id": "BMqY29wOyFds",
        "colab_type": "code",
        "colab": {
          "base_uri": "https://localhost:8080/",
          "height": 301
        },
        "outputId": "7d3b0cc0-cf83-4f6c-890d-97424939999f"
      },
      "source": [
        "fibonacciSe()"
      ],
      "execution_count": 7,
      "outputs": [
        {
          "output_type": "stream",
          "text": [
            "Enter any Number - 15\n",
            "1\n",
            "1\n",
            "2\n",
            "3\n",
            "5\n",
            "8\n",
            "13\n",
            "21\n",
            "34\n",
            "55\n",
            "89\n",
            "144\n",
            "233\n",
            "377\n",
            "610\n",
            "987\n"
          ],
          "name": "stdout"
        }
      ]
    }
  ]
}