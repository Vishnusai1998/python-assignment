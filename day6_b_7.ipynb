{
  "nbformat": 4,
  "nbformat_minor": 0,
  "metadata": {
    "colab": {
      "name": "day6 b-7.ipynb",
      "provenance": []
    },
    "kernelspec": {
      "name": "python3",
      "display_name": "Python 3"
    }
  },
  "cells": [
    {
      "cell_type": "code",
      "metadata": {
        "id": "3F_tVsDCNx2n",
        "colab_type": "code",
        "colab": {}
      },
      "source": [
        "#assignment 1\n",
        "\n",
        "class Bank():\n",
        "    def __init__(self,owner,balance=0):\n",
        "        self.owner = owner\n",
        "        self.balance = balance\n",
        "        \n",
        "    def deposit(self, balance):\n",
        "        self.balance+=  balance\n",
        "        return self.balance\n",
        "    \n",
        "    def withdraw(self,balance):\n",
        "            if self.balance >= balance:\n",
        "                self.balance-=balance\n",
        "            else:\n",
        "                return \"Not Possible only \" + str(self.balance) + ' is avaliable'\n",
        "            return self.balance"
      ],
      "execution_count": 2,
      "outputs": []
    },
    {
      "cell_type": "code",
      "metadata": {
        "id": "s_fSODLeO2-d",
        "colab_type": "code",
        "colab": {}
      },
      "source": [
        "\n",
        "account1 = Bank('account1',100)"
      ],
      "execution_count": 4,
      "outputs": []
    },
    {
      "cell_type": "code",
      "metadata": {
        "id": "BZCZqCwEO8P8",
        "colab_type": "code",
        "colab": {
          "base_uri": "https://localhost:8080/",
          "height": 33
        },
        "outputId": "0864f449-b0c4-4c70-d1a2-0aa572dc8d5c"
      },
      "source": [
        "account1.deposit(1000)"
      ],
      "execution_count": 5,
      "outputs": [
        {
          "output_type": "execute_result",
          "data": {
            "text/plain": [
              "1100"
            ]
          },
          "metadata": {
            "tags": []
          },
          "execution_count": 5
        }
      ]
    },
    {
      "cell_type": "code",
      "metadata": {
        "id": "p9ejaK9OPEaN",
        "colab_type": "code",
        "colab": {}
      },
      "source": [
        "#assignment 2\n",
        "\n",
        "import math\n",
        "class Cone:\n",
        "    def __init__(self,r=1,h=1):\n",
        "        self.r = r\n",
        "        self.h = h\n",
        "        self.volume =0\n",
        "        self.surface_area = 0\n",
        "    def volume_fun(self):\n",
        "        self.volume = math.pi * self.r * self.r * (self.h/3)\n",
        "        return self.volume\n",
        "    def surface_area_fun(self):\n",
        "        base = math.pi * self.r * self.r\n",
        "        side = math.pi * self.r * math.sqrt(self.r**2 + self.h**2)\n",
        "        self.surface_area = base + side\n",
        "        return self.surface_area"
      ],
      "execution_count": 8,
      "outputs": []
    },
    {
      "cell_type": "code",
      "metadata": {
        "id": "2ud3ViOzPSrc",
        "colab_type": "code",
        "colab": {
          "base_uri": "https://localhost:8080/",
          "height": 33
        },
        "outputId": "0e4344bc-4f96-49f6-a092-a65bcfbecfdc"
      },
      "source": [
        "cone1 = Cone(5,7)\n",
        "cone1.volume_fun()"
      ],
      "execution_count": 10,
      "outputs": [
        {
          "output_type": "execute_result",
          "data": {
            "text/plain": [
              "183.2595714594046"
            ]
          },
          "metadata": {
            "tags": []
          },
          "execution_count": 10
        }
      ]
    },
    {
      "cell_type": "code",
      "metadata": {
        "id": "2Dzl1TA0PmtE",
        "colab_type": "code",
        "colab": {}
      },
      "source": [
        ""
      ],
      "execution_count": null,
      "outputs": []
    }
  ]
}