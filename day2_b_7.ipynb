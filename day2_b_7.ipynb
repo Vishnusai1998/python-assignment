{
  "nbformat": 4,
  "nbformat_minor": 0,
  "metadata": {
    "colab": {
      "name": "day2 b-7.ipynb",
      "provenance": []
    },
    "kernelspec": {
      "name": "python3",
      "display_name": "Python 3"
    }
  },
  "cells": [
    {
      "cell_type": "code",
      "metadata": {
        "id": "e8fmzSLjw3KR",
        "colab_type": "code",
        "colab": {
          "base_uri": "https://localhost:8080/",
          "height": 150
        },
        "outputId": "e7cbf033-bd07-4f79-f9a1-4d7a7acf5ffe"
      },
      "source": [
        "#assigment 1\n",
        "mylst=['vishnusai',1,1.5,5+2j]\n",
        "print(mylst)\n",
        "#list functions:\n",
        "mylst.append(10)\n",
        "print(mylst)\n",
        "mylst.insert(2,2.5)\n",
        "print(mylst)\n",
        "mylst.reverse()\n",
        "print(mylst)\n",
        "print(mylst.index(2.5))\n",
        "mylst.pop()\n",
        "print(mylst)\n",
        "print(mylst.count(10))\n",
        "mylst.clear()\n",
        "print(mylst)\n",
        "\n",
        "\n"
      ],
      "execution_count": null,
      "outputs": [
        {
          "output_type": "stream",
          "text": [
            "['vishnusai', 1, 1.5, (5+2j)]\n",
            "['vishnusai', 1, 1.5, (5+2j), 10]\n",
            "['vishnusai', 1, 2.5, 1.5, (5+2j), 10]\n",
            "[10, (5+2j), 1.5, 2.5, 1, 'vishnusai']\n",
            "3\n",
            "[10, (5+2j), 1.5, 2.5, 1]\n",
            "1\n",
            "[]\n"
          ],
          "name": "stdout"
        }
      ]
    },
    {
      "cell_type": "code",
      "metadata": {
        "id": "xliB9ju4VPVM",
        "colab_type": "code",
        "colab": {}
      },
      "source": [
        ""
      ],
      "execution_count": null,
      "outputs": []
    },
    {
      "cell_type": "code",
      "metadata": {
        "id": "L3HxoUr8xQzc",
        "colab_type": "code",
        "colab": {
          "base_uri": "https://localhost:8080/",
          "height": 67
        },
        "outputId": "25bd97d4-c676-4746-ef16-acb42ce12bd8"
      },
      "source": [
        "#assigmet 2\n",
        "mytpl=('vishnusai','letsupgrade',10,10.5,20+5j,10)\n",
        "print(mytpl)\n",
        "##tuple has only 2 functions\n",
        "print(mytpl.count(10))\n",
        "print(mytpl.index(10.5))\n"
      ],
      "execution_count": null,
      "outputs": [
        {
          "output_type": "stream",
          "text": [
            "('vishnusai', 'letsupgrade', 10, 10.5, (20+5j), 10)\n",
            "2\n",
            "3\n"
          ],
          "name": "stdout"
        }
      ]
    },
    {
      "cell_type": "code",
      "metadata": {
        "id": "LSWyyy3NxfKB",
        "colab_type": "code",
        "colab": {
          "base_uri": "https://localhost:8080/",
          "height": 117
        },
        "outputId": "51293511-bc80-402c-fd9e-76505f729657"
      },
      "source": [
        "#assigment 3\n",
        "mydict={'a':'letsupgrade','b':'vishnusai','c':'saisir','d':10,'e':10.5}\n",
        "print(mydict)\n",
        "##dictionary functions\n",
        "print(mydict.get('a'))\n",
        "print(mydict.keys())\n",
        "print(mydict.values())\n",
        "mydict.pop('e')\n",
        "print(mydict)\n",
        "mydict.clear()\n",
        "print(mydict)\n"
      ],
      "execution_count": null,
      "outputs": [
        {
          "output_type": "stream",
          "text": [
            "{'a': 'letsupgrade', 'b': 'vishnusai', 'c': 'saisir', 'd': 10, 'e': 10.5}\n",
            "letsupgrade\n",
            "dict_keys(['a', 'b', 'c', 'd', 'e'])\n",
            "dict_values(['letsupgrade', 'vishnusai', 'saisir', 10, 10.5])\n",
            "{'a': 'letsupgrade', 'b': 'vishnusai', 'c': 'saisir', 'd': 10}\n",
            "{}\n"
          ],
          "name": "stdout"
        }
      ]
    },
    {
      "cell_type": "code",
      "metadata": {
        "id": "v18MLmefxp-a",
        "colab_type": "code",
        "colab": {
          "base_uri": "https://localhost:8080/",
          "height": 134
        },
        "outputId": "6ee7a828-d2e1-45a3-879f-692adf3b5a01"
      },
      "source": [
        "#assignment-4\n",
        "myset={1,2,1,2,3,4}\n",
        "myset2={3,4,5,6,7}\n",
        "print(myset)\n",
        "print(myset2)\n",
        "##set functions\n",
        "c=myset.union(myset2)\n",
        "print(c)\n",
        "d=myset.intersection(myset2)\n",
        "print(d)\n",
        "myset.add(8)\n",
        "print(myset)\n",
        "myset.remove(4)\n",
        "print(myset)\n",
        "myset.update({9,10})\n",
        "print(myset)\n",
        "\n"
      ],
      "execution_count": null,
      "outputs": [
        {
          "output_type": "stream",
          "text": [
            "{1, 2, 3, 4}\n",
            "{3, 4, 5, 6, 7}\n",
            "{1, 2, 3, 4, 5, 6, 7}\n",
            "{3, 4}\n",
            "{1, 2, 3, 4, 8}\n",
            "{1, 2, 3, 8}\n",
            "{1, 2, 3, 8, 9, 10}\n"
          ],
          "name": "stdout"
        }
      ]
    },
    {
      "cell_type": "code",
      "metadata": {
        "id": "d2Ne8MEhx46y",
        "colab_type": "code",
        "colab": {
          "base_uri": "https://localhost:8080/",
          "height": 134
        },
        "outputId": "da6922da-ce7d-477f-d674-29bf49f18056"
      },
      "source": [
        "#assignment-5\n",
        "str='  letsupgrade  '\n",
        "print(str)\n",
        "#string functions\n",
        "print(str.find('s'))\n",
        "print(str.upper())\n",
        "print(str.lower())\n",
        "print(str.lstrip())\n",
        "print(str.rstrip())\n",
        "print(len(str))\n"
      ],
      "execution_count": null,
      "outputs": [
        {
          "output_type": "stream",
          "text": [
            "  letsupgrade  \n",
            "5\n",
            "  LETSUPGRADE  \n",
            "  letsupgrade  \n",
            "letsupgrade  \n",
            "  letsupgrade\n",
            "15\n"
          ],
          "name": "stdout"
        }
      ]
    }
  ]
}